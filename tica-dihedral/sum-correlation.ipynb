{
 "cells": [
  {
   "cell_type": "code",
   "execution_count": 1,
   "metadata": {},
   "outputs": [],
   "source": [
    "\n",
    "\n",
    "%matplotlib inline\n",
    "import matplotlib.pyplot as plt\n",
    "import matplotlib as mpl\n",
    "import numpy as np\n",
    "\n",
    "\n"
   ]
  },
  {
   "cell_type": "code",
   "execution_count": 2,
   "metadata": {},
   "outputs": [],
   "source": [
    "l1 = np.loadtxt('phi_tIC_1_cos_corr.dat')\n",
    "\n",
    "l2 = np.loadtxt('phi_tIC_1_sin_corr.dat')\n",
    "\n",
    "l3 = np.loadtxt('phi_tIC_2_cos_corr.dat')\n",
    "\n",
    "l4 = np.loadtxt('phi_tIC_2_sin_corr.dat')\n",
    "\n",
    "sum_corr = np.zeros(len(l1))\n",
    "\n",
    "#some over tica and sine/cosine\n",
    "f2 = open('phi_sum_correlation_seperate_chain.dat','w')\n",
    "for i in range(len(l1)):\n",
    "    sum_corr[i] = abs(l1[i,1]) + abs(l2[i,1]) + abs(l3[i,1]) + abs(l4[i,1])\n",
    "    print(int(l1[i,0]),sum_corr[i],file=f2)\n",
    "f2.close()\n"
   ]
  },
  {
   "cell_type": "code",
   "execution_count": 3,
   "metadata": {},
   "outputs": [],
   "source": [
    "l = np.loadtxt(\"phi_sum_correlation_seperate_chain.dat\")\n",
    "\n",
    "\n",
    "sorted_sum = l[np.argsort(l[:, 1])]\n",
    "sorted_sum = np.flip(sorted_sum,0)\n",
    "\n",
    "def get_chain(index):\n",
    "    '''decide which chain'''\n",
    "\n",
    "    if index <= 1146:\n",
    "        chain = 'A'\n",
    "    elif index > 1146 and index <= 2292:\n",
    "        chain = 'B'\n",
    "    elif index > 2292:\n",
    "        chain = 'C'\n",
    "    return chain\n",
    "\n",
    "f1 = open('phi_sum_correlations_verbose.dat','w')\n",
    "\n",
    "f2 = open('phi_sum_correlations_verbose_top_100.dat','w')\n",
    "\n",
    "\n",
    "for i in range(len(l)):\n",
    "    chain = get_chain(int(sorted_sum[i,0]))\n",
    "    if chain == 'A' :\n",
    "        resid = int(sorted_sum[i,0])\n",
    "    elif chain == 'B':\n",
    "        resid = int(sorted_sum[i,0]) - 1146\n",
    "    elif chain == 'C':\n",
    "        resid = int(sorted_sum[i,0]) - 2292\n",
    "    print('Chain'+' '+ chain +': Residue '+ str(resid),sorted_sum[i,1],file=f1)\n",
    "    if i<100:\n",
    "        print('Chain'+' '+ chain +': Residue '+ str(resid),sorted_sum[i,1],file=f2)\n",
    "f1.close()\n",
    "f2.close()\n",
    "\n",
    "phi_sorted_sum = sorted_sum.copy()"
   ]
  },
  {
   "cell_type": "code",
   "execution_count": 4,
   "metadata": {},
   "outputs": [],
   "source": [
    "l1 = np.loadtxt('psi_tIC_1_cos_corr.dat')\n",
    "\n",
    "l2 = np.loadtxt('psi_tIC_1_sin_corr.dat')\n",
    "\n",
    "l3 = np.loadtxt('psi_tIC_2_cos_corr.dat')\n",
    "\n",
    "l4 = np.loadtxt('psi_tIC_2_sin_corr.dat')\n",
    "\n",
    "sum_corr = np.zeros(len(l1))\n",
    "\n",
    "#some over tica and sine/cosine\n",
    "f2 = open('psi_sum_correlation_seperate_chain.dat','w')\n",
    "for i in range(len(l1)):\n",
    "    sum_corr[i] = abs(l1[i,1]) + abs(l2[i,1]) + abs(l3[i,1]) + abs(l4[i,1])\n",
    "    print(int(l1[i,0]),sum_corr[i],file=f2)\n",
    "f2.close()"
   ]
  },
  {
   "cell_type": "code",
   "execution_count": 5,
   "metadata": {},
   "outputs": [],
   "source": [
    "l = np.loadtxt(\"psi_sum_correlation_seperate_chain.dat\")\n",
    "\n",
    "\n",
    "sorted_sum = l[np.argsort(l[:, 1])]\n",
    "sorted_sum = np.flip(sorted_sum,0)\n",
    "\n",
    "def get_chain(index):\n",
    "    '''decide which chain'''\n",
    "\n",
    "    if index <= 1146:\n",
    "        chain = 'A'\n",
    "    elif index > 1146 and index <= 2292:\n",
    "        chain = 'B'\n",
    "    elif index > 2292:\n",
    "        chain = 'C'\n",
    "    return chain\n",
    "\n",
    "f1 = open('psi_sum_correlations_verbose.dat','w')\n",
    "\n",
    "f2 = open('psi_sum_correlations_verbose_top_100.dat','w')\n",
    "\n",
    "\n",
    "for i in range(len(l)):\n",
    "    chain = get_chain(int(sorted_sum[i,0]))\n",
    "    if chain == 'A' :\n",
    "        resid = int(sorted_sum[i,0])\n",
    "    elif chain == 'B':\n",
    "        resid = int(sorted_sum[i,0]) - 1146\n",
    "    elif chain == 'C':\n",
    "        resid = int(sorted_sum[i,0]) - 2292\n",
    "    print('Chain'+' '+ chain +': Residue '+ str(resid),sorted_sum[i,1],file=f1)\n",
    "    if i<100:\n",
    "        print('Chain'+' '+ chain +': Residue '+ str(resid),sorted_sum[i,1],file=f2)\n",
    "f1.close()\n",
    "f2.close()\n",
    "\n",
    "psi_sorted_sum = sorted_sum.copy()"
   ]
  },
  {
   "cell_type": "code",
   "execution_count": 11,
   "metadata": {},
   "outputs": [
    {
     "data": {
      "image/png": "[encoded data removed]",
      "text/plain": [
       "<Figure size 432x288 with 1 Axes>"
      ]
     },
     "metadata": {
      "needs_background": "light"
     },
     "output_type": "display_data"
    }
   ],
   "source": [
    "xx = np.arange(len(sorted_sum))\n",
    "plt.plot(xx,phi_sorted_sum[:,1],label='$\\Phi$')\n",
    "plt.plot(xx,psi_sorted_sum[:,1],label='$\\Psi$')\n",
    "plt.xlabel('Residue index (descending order)',fontsize=20)\n",
    "plt.ylabel('Correlation Score (CS)',fontsize=20)\n",
    "plt.xticks(fontsize=16)\n",
    "plt.yticks(fontsize=16)\n",
    "plt.legend(fontsize=18)\n",
    "plt.savefig('correlation-score-spectra.pdf',bbox_inches='tight')\n",
    "#plt.xlim(0,100)"
   ]
  },
  {
   "cell_type": "code",
   "execution_count": null,
   "metadata": {},
   "outputs": [],
   "source": []
  }
 ],
 "metadata": {
  "kernelspec": {
   "display_name": "Python 3",
   "language": "python",
   "name": "python3"
  },
  "language_info": {
   "codemirror_mode": {
    "name": "ipython",
    "version": 3
   },
   "file_extension": ".py",
   "mimetype": "text/x-python",
   "name": "python",
   "nbconvert_exporter": "python",
   "pygments_lexer": "ipython3",
   "version": "3.6.8"
  }
 },
 "nbformat": 4,
 "nbformat_minor": 2
}
