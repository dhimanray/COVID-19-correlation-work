{
 "cells": [
  {
   "cell_type": "code",
   "execution_count": 1,
   "metadata": {},
   "outputs": [],
   "source": [
    "\n",
    "\n",
    "%matplotlib inline\n",
    "import matplotlib.pyplot as plt\n",
    "import matplotlib as mpl\n",
    "import numpy as np\n",
    "\n",
    "\n",
    "import mdtraj as md\n",
    "\n"
   ]
  },
  {
   "cell_type": "code",
   "execution_count": 2,
   "metadata": {},
   "outputs": [
    {
     "name": "stdout",
     "output_type": "stream",
     "text": [
      "0 6vxx/combined_no_water_40ns/MSM_1_dry.dcd\n",
      "1 6vxx/combined_no_water_40ns/MSM_2_dry.dcd\n",
      "2 6vxx/closed_80ns_US_3.dcd\n",
      "3 6vxx/combined_no_water_40ns/MSM_4_dry.dcd\n",
      "4 6vxx/combined_no_water_40ns/MSM_5_dry.dcd\n",
      "5 6vxx/combined_no_water_40ns/MSM_6_dry.dcd\n",
      "6 6vxx/combined_no_water_40ns/MSM_7_dry.dcd\n",
      "7 6vxx/combined_no_water_40ns/MSM_8_dry.dcd\n",
      "8 6vxx/combined_no_water_40ns/MSM_9_dry.dcd\n",
      "9 6vxx/combined_no_water_40ns/MSM_10_dry.dcd\n",
      "10 6vxx/combined_no_water_40ns/MSM_22_dry.dcd\n",
      "11 6vxx/combined_no_water_40ns/MSM_23_dry.dcd\n",
      "12 6vxx/combined_no_water_40ns/MSM_24_dry.dcd\n",
      "13 6vxx/combined_no_water_40ns/MSM_25_dry.dcd\n",
      "14 6vxx/combined_no_water_40ns/MSM_26_dry.dcd\n",
      "15 6vxx/combined_no_water_40ns/MSM_27_dry.dcd\n",
      "16 6vxx/combined_no_water_40ns/MSM_28_dry.dcd\n",
      "17 6vxx/combined_no_water_40ns/MSM_29_dry.dcd\n",
      "18 6vxx/combined_no_water_40ns/MSM_30_dry.dcd\n",
      "19 6vxx/fully_open_80ns_US_33.dcd\n",
      "20 6vsb/combined_no_water_40ns/MSM_16_dry.dcd\n",
      "21 6vsb/combined_no_water_40ns/MSM_17_dry.dcd\n",
      "22 6vsb/combined_no_water_40ns/MSM_18_dry.dcd\n",
      "23 6vsb/combined_no_water_40ns/MSM_19_dry.dcd\n",
      "24 6vsb/combined_no_water_40ns/MSM_21_dry.dcd\n",
      "25 6vsb/combined_no_water_40ns/MSM_22_dry.dcd\n",
      "26 6vsb/combined_no_water_40ns/MSM_23_dry.dcd\n",
      "27 6vsb/combined_no_water_40ns/MSM_24_dry.dcd\n",
      "28 6vsb/combined_no_water_40ns/MSM_25_dry.dcd\n",
      "29 6vsb/combined_no_water_40ns/MSM_26_dry.dcd\n",
      "30 6vsb/combined_no_water_40ns/MSM_27_dry.dcd\n",
      "31 6vsb/combined_no_water_40ns/MSM_28_dry.dcd\n",
      "32 6vsb/combined_no_water_40ns/MSM_29_dry.dcd\n",
      "33 6vsb/combined_no_water_40ns/MSM_30_dry.dcd\n",
      "34 6vsb/combined_no_water_40ns/MSM_31_dry.dcd\n",
      "35 6vsb/partially_open_80ns_6vsb_32.dcd\n",
      "36 6vsb/combined_no_water_40ns/MSM_33_dry.dcd\n",
      "37 6vsb/combined_no_water_40ns/MSM_34_dry.dcd\n"
     ]
    }
   ],
   "source": [
    "pdb_6vxx = '6vxx_spike_dry.pdb'\n",
    "pdb_6vsb = '6vsb_spike_dry.pdb'\n",
    "files = []\n",
    "files += ['6vxx/combined_no_water_40ns/MSM_%i_dry.dcd'%d for d in range(1,3)]\n",
    "files += ['6vxx/closed_80ns_US_3.dcd']\n",
    "files += ['6vxx/combined_no_water_40ns/MSM_%i_dry.dcd'%d for d in range(4,11)]\n",
    "files += ['6vxx/combined_no_water_40ns/MSM_%i_dry.dcd'%d for d in range(22,31)]\n",
    "files += ['6vxx/fully_open_80ns_US_33.dcd']\n",
    "files += ['6vsb/combined_no_water_40ns/MSM_%i_dry.dcd'%d for d in range(16,20)]\n",
    "files += ['6vsb/combined_no_water_40ns/MSM_%i_dry.dcd'%d for d in range(21,32)]\n",
    "files += ['6vsb/partially_open_80ns_6vsb_32.dcd']\n",
    "files += ['6vsb/combined_no_water_40ns/MSM_%i_dry.dcd'%d for d in range(33,35)]\n",
    "for i in range(len(files)):\n",
    "    print(i, files[i])"
   ]
  },
  {
   "cell_type": "code",
   "execution_count": 6,
   "metadata": {},
   "outputs": [
    {
     "data": {
      "text/plain": [
       "(3437, 747)"
      ]
     },
     "execution_count": 6,
     "metadata": {},
     "output_type": "execute_result"
    }
   ],
   "source": [
    "traj = md.load('../'+files[0],top='6vxx_spike_dry.pdb')\n",
    "\n",
    "List1, Phi = md.compute_phi(traj)\n",
    "\n",
    "Phi = np.array(Phi)\n",
    "Phi = Phi.T\n",
    "\n",
    "Phi.shape"
   ]
  },
  {
   "cell_type": "code",
   "execution_count": 3,
   "metadata": {},
   "outputs": [],
   "source": [
    "#print dihedral trajectories for the 6vxx trajectories\n",
    "for i in range(20):\n",
    "    traj = md.load('../'+files[i],top='6vxx_spike_dry.pdb')\n",
    "\n",
    "    #compute phi angles\n",
    "    List1, Phi = md.compute_phi(traj)\n",
    "\n",
    "    Phi = np.array(Phi)\n",
    "    Phi = Phi.T\n",
    "    \n",
    "    for j in range(len(Phi)):\n",
    "        f1 = open('dihedral-data/phi_residue_%d_traj_%d'%(j+2,i),'w') #first Phi angle starts from resid 2\n",
    "        for k in range(len(Phi[j])):\n",
    "            print(Phi[j,k],file=f1)\n",
    "        f1.close()\n",
    "        \n",
    "    #compute psi angles\n",
    "    List1, Psi = md.compute_psi(traj)\n",
    "\n",
    "    Psi = np.array(Psi)\n",
    "    Psi = Psi.T\n",
    "    \n",
    "    for j in range(len(Psi)):\n",
    "        f1 = open('dihedral-data/psi_residue_%d_traj_%d'%(j+1,i),'w') #first Psi angle starts from resid 1\n",
    "        for k in range(len(Psi[j])):\n",
    "            print(Psi[j,k],file=f1)\n",
    "        f1.close()\n",
    "    \n"
   ]
  },
  {
   "cell_type": "code",
   "execution_count": 4,
   "metadata": {},
   "outputs": [
    {
     "name": "stderr",
     "output_type": "stream",
     "text": [
      "/home/dhiman/miniconda3/lib/python3.6/site-packages/mdtraj/formats/pdb/pdbfile.py:194: RuntimeWarning: divide by zero encountered in true_divide\n",
      "  particle_density = traj.top.n_atoms / traj.unitcell_volumes[0]\n",
      "/home/dhiman/miniconda3/lib/python3.6/site-packages/mdtraj/formats/pdb/pdbfile.py:198: UserWarning: Unlikely unit cell vectors detected in PDB file likely resulting from a dummy CRYST1 record. Discarding unit cell vectors.\n",
      "  'cell vectors.', category=UserWarning)\n"
     ]
    }
   ],
   "source": [
    "#print dihedral trajectories for the 6vsb trajectories\n",
    "for i in range(20,38):\n",
    "    traj = md.load('../'+files[i],top='6vsb_spike_dry.pdb')\n",
    "\n",
    "    #compute phi angles\n",
    "    List1, Phi = md.compute_phi(traj)\n",
    "\n",
    "    Phi = np.array(Phi)\n",
    "    Phi = Phi.T\n",
    "    \n",
    "    for j in range(len(Phi)):\n",
    "        f1 = open('dihedral-data/phi_residue_%d_traj_%d'%(j+2,i),'w') #first Phi angle starts from resid 2\n",
    "        for k in range(len(Phi[j])):\n",
    "            print(Phi[j,k],file=f1)\n",
    "        f1.close()\n",
    "        \n",
    "    #compute psi angles\n",
    "    List1, Psi = md.compute_psi(traj)\n",
    "\n",
    "    Psi = np.array(Psi)\n",
    "    Psi = Psi.T\n",
    "    \n",
    "    for j in range(len(Psi)):\n",
    "        f1 = open('dihedral-data/psi_residue_%d_traj_%d'%(j+1,i),'w') #first Psi angle starts from resid 1\n",
    "        for k in range(len(Psi[j])):\n",
    "            print(Psi[j,k],file=f1)\n",
    "        f1.close()"
   ]
  },
  {
   "cell_type": "code",
   "execution_count": null,
   "metadata": {},
   "outputs": [],
   "source": []
  }
 ],
 "metadata": {
  "kernelspec": {
   "display_name": "Python 3",
   "language": "python",
   "name": "python3"
  },
  "language_info": {
   "codemirror_mode": {
    "name": "ipython",
    "version": 3
   },
   "file_extension": ".py",
   "mimetype": "text/x-python",
   "name": "python",
   "nbconvert_exporter": "python",
   "pygments_lexer": "ipython3",
   "version": "3.6.8"
  }
 },
 "nbformat": 4,
 "nbformat_minor": 2
}
