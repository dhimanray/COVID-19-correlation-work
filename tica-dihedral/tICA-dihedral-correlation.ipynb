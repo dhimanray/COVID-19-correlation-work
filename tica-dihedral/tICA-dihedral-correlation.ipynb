{
 "cells": [
  {
   "cell_type": "markdown",
   "metadata": {},
   "source": [
    "This notebook computes the correlation between the sines and cosines of the dihedral angles with the two slowest independent componenets (tICs) from the tICA analysis "
   ]
  },
  {
   "cell_type": "code",
   "execution_count": 1,
   "metadata": {},
   "outputs": [],
   "source": [
    "import numpy as np\n",
    "import matplotlib.pyplot as plt"
   ]
  },
  {
   "cell_type": "markdown",
   "metadata": {},
   "source": [
    "In next few cells the data of tICA coordinate is loaded"
   ]
  },
  {
   "cell_type": "code",
   "execution_count": 3,
   "metadata": {},
   "outputs": [],
   "source": [
    "#Load TICA trajectories\n",
    "\n",
    "l = np.loadtxt('tica-data/tic_traj_0')\n",
    "l = l.T\n",
    "tIC_1 = l[0]\n",
    "tIC_2 = l[1]\n",
    "for i in range(1,38):\n",
    "    l = np.loadtxt('tica-data/tic_traj_%d'%i)\n",
    "    l = l.T\n",
    "    tIC_1 = np.concatenate((tIC_1,l[0]))\n",
    "    tIC_2 = np.concatenate((tIC_2,l[1]))"
   ]
  },
  {
   "cell_type": "code",
   "execution_count": 4,
   "metadata": {},
   "outputs": [
    {
     "name": "stdout",
     "output_type": "stream",
     "text": [
      "(31516,)\n",
      "(31516,)\n"
     ]
    }
   ],
   "source": [
    "print(tIC_1.shape)\n",
    "print(tIC_2.shape)"
   ]
  },
  {
   "cell_type": "markdown",
   "metadata": {},
   "source": [
    "In the next few cells dihedral angles are loaded and correlation is computed"
   ]
  },
  {
   "cell_type": "code",
   "execution_count": 6,
   "metadata": {},
   "outputs": [],
   "source": [
    "#sin-cosine correlation\n",
    "\n",
    "\n",
    "f1 = open('tIC_1_sin_corr.dat','w')\n",
    "f2 = open('tIC_1_cos_corr.dat','w')\n",
    "f3 = open('tIC_2_sin_corr.dat','w')\n",
    "f4 = open('tIC_2_cos_corr.dat','w')\n",
    "print('#index #correlation with tIC 1',file=f1)\n",
    "print('#index #correlation with tIC 1',file=f2)\n",
    "print('#index #correlation with tIC 2',file=f3)\n",
    "print('#index #correlation with tIC 2',file=f4)\n",
    "for i in range(6873):\n",
    "    angles = np.loadtxt('dihedral-data/dihedral_%d_traj_0'%i)\n",
    "    #print(len(angles))\n",
    "    for j in range(1,38):\n",
    "        l = np.loadtxt('dihedral-data/dihedral_%d_traj_%d'%(i,j))\n",
    "        angles = np.concatenate((angles,l))\n",
    "    #print(len(angles))\n",
    "    cc_1 = np.corrcoef(tIC_1,np.sin(angles))\n",
    "    cc_2 = np.corrcoef(tIC_1,np.cos(angles))\n",
    "    cc_3 = np.corrcoef(tIC_2,np.sin(angles))\n",
    "    cc_4 = np.corrcoef(tIC_2,np.cos(angles))\n",
    "    \n",
    "    \n",
    "    \n",
    "    print(i, cc_1[0,1],file=f1)\n",
    "    print(i, cc_2[0,1],file=f2)\n",
    "    print(i, cc_3[0,1],file=f3)\n",
    "    print(i, cc_4[0,1],file=f4)\n",
    "\n",
    "f1.close()\n",
    "f2.close()\n",
    "f3.close()\n",
    "f4.close()"
   ]
  },
  {
   "cell_type": "code",
   "execution_count": 7,
   "metadata": {},
   "outputs": [],
   "source": [
    "#sort sin-cosine the TICA correlations\n",
    "\n",
    "l = np.loadtxt('tIC_1_sin_corr.dat')\n",
    "\n",
    "sorted1 = l[np.argsort(l[:, 1])]\n",
    "\n",
    "f1 = open('sorted_tIC_1_sin_corr.dat','w')\n",
    "print('#dihedral index   #correlation',file=f1)\n",
    "for i in range(len(sorted1)):\n",
    "    print(int(sorted1[i,0]),sorted1[i,1],file=f1)\n",
    "f1.close()\n",
    "\n",
    "l = np.loadtxt('tIC_1_cos_corr.dat')\n",
    "\n",
    "sorted1 = l[np.argsort(l[:, 1])]\n",
    "\n",
    "f1 = open('sorted_tIC_1_cos_corr.dat','w')\n",
    "print('#dihedral index   #correlation',file=f1)\n",
    "for i in range(len(sorted1)):\n",
    "    print(int(sorted1[i,0]),sorted1[i,1],file=f1)\n",
    "f1.close()\n",
    "\n",
    "l = np.loadtxt('tIC_2_sin_corr.dat')\n",
    "\n",
    "sorted2 = l[np.argsort(l[:, 1])]\n",
    "\n",
    "f1 = open('sorted_tIC_2_sin_corr.dat','w')\n",
    "print('#dihedral index   #correlation',file=f1)\n",
    "for i in range(len(sorted2)):\n",
    "    print(int(sorted2[i,0]),sorted2[i,1],file=f1)\n",
    "f1.close()\n",
    "\n",
    "l = np.loadtxt('tIC_2_cos_corr.dat')\n",
    "\n",
    "sorted2 = l[np.argsort(l[:, 1])]\n",
    "\n",
    "f1 = open('sorted_tIC_2_cos_corr.dat','w')\n",
    "print('#dihedral index   #correlation',file=f1)\n",
    "for i in range(len(sorted2)):\n",
    "    print(int(sorted2[i,0]),sorted2[i,1],file=f1)\n",
    "f1.close()"
   ]
  },
  {
   "cell_type": "code",
   "execution_count": 14,
   "metadata": {},
   "outputs": [
    {
     "data": {
      "image/png": "[encoded data removed]",
      "text/plain": [
       "<Figure size 432x288 with 1 Axes>"
      ]
     },
     "metadata": {
      "needs_background": "light"
     },
     "output_type": "display_data"
    }
   ],
   "source": [
    "#spectra sin-cos\n",
    "l1 = np.loadtxt('tIC_1_sin_corr.dat')\n",
    "\n",
    "l1.sort(axis=0)\n",
    "\n",
    "l1 = l1.T\n",
    "\n",
    "l2 = np.loadtxt('tIC_1_cos_corr.dat')\n",
    "\n",
    "l2.sort(axis=0)\n",
    "\n",
    "l2 = l2.T\n",
    "\n",
    "l3 = np.loadtxt('tIC_2_sin_corr.dat')\n",
    "\n",
    "l3.sort(axis=0)\n",
    "\n",
    "l3 = l3.T\n",
    "\n",
    "l4 = np.loadtxt('tIC_2_cos_corr.dat')\n",
    "\n",
    "l4.sort(axis=0)\n",
    "\n",
    "l4 = l4.T\n",
    "\n",
    "\n",
    "\n",
    "plt.plot(l1[0],l1[1],label='tIC 1 Sin')\n",
    "plt.plot(l2[0],l2[1],label='tIC 1 Cos')\n",
    "plt.plot(l3[0],l3[1],label='tIC 2 Sin')\n",
    "plt.plot(l4[0],l4[1],label='tIC 1 Cos')\n",
    "plt.xlabel('Dihedral angle features',fontsize=16)\n",
    "plt.ylabel('Correlation coefficient',fontsize=16)\n",
    "\n",
    "plt.xticks(fontsize=14)\n",
    "plt.yticks(fontsize=14)\n",
    "plt.axhline(y=0,color='k')\n",
    "plt.legend(fontsize=16)\n",
    "plt.tight_layout()\n",
    "\n",
    "#plt.show()\n",
    "plt.savefig('spectra.pdf')"
   ]
  },
  {
   "cell_type": "code",
   "execution_count": null,
   "metadata": {},
   "outputs": [],
   "source": []
  }
 ],
 "metadata": {
  "kernelspec": {
   "display_name": "Python 3",
   "language": "python",
   "name": "python3"
  },
  "language_info": {
   "codemirror_mode": {
    "name": "ipython",
    "version": 3
   },
   "file_extension": ".py",
   "mimetype": "text/x-python",
   "name": "python",
   "nbconvert_exporter": "python",
   "pygments_lexer": "ipython3",
   "version": "3.6.8"
  }
 },
 "nbformat": 4,
 "nbformat_minor": 2
}
