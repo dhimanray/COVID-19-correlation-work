{
 "cells": [
  {
   "cell_type": "code",
   "execution_count": 1,
   "metadata": {},
   "outputs": [],
   "source": [
    "import numpy as np\n",
    "import matplotlib.pyplot as plt"
   ]
  },
  {
   "cell_type": "markdown",
   "metadata": {},
   "source": [
    "In next few cells the data of tICA coordinate is loaded"
   ]
  },
  {
   "cell_type": "code",
   "execution_count": 2,
   "metadata": {},
   "outputs": [],
   "source": [
    "#Load TICA trajectories\n",
    "\n",
    "l = np.loadtxt('tica-data/tic_traj_0')\n",
    "l = l.T\n",
    "tIC_1 = l[0]\n",
    "tIC_2 = l[1]\n",
    "for i in range(1,38):\n",
    "    l = np.loadtxt('tica-data/tic_traj_%d'%i)\n",
    "    l = l.T\n",
    "    tIC_1 = np.concatenate((tIC_1,l[0]))\n",
    "    tIC_2 = np.concatenate((tIC_2,l[1]))"
   ]
  },
  {
   "cell_type": "code",
   "execution_count": 3,
   "metadata": {},
   "outputs": [
    {
     "name": "stdout",
     "output_type": "stream",
     "text": [
      "(31516,)\n",
      "(31516,)\n"
     ]
    }
   ],
   "source": [
    "print(tIC_1.shape)\n",
    "print(tIC_2.shape)"
   ]
  },
  {
   "cell_type": "code",
   "execution_count": 6,
   "metadata": {},
   "outputs": [
    {
     "name": "stdout",
     "output_type": "stream",
     "text": [
      "747 747\n",
      "1454 1454\n",
      "3053 3053\n",
      "3812 3812\n",
      "4564 4564\n",
      "5364 5364\n",
      "6097 6097\n",
      "6897 6897\n",
      "7697 7697\n",
      "8497 8497\n",
      "9242 9242\n",
      "10020 10020\n",
      "10820 10820\n",
      "11620 11620\n",
      "12325 12325\n",
      "13015 13015\n",
      "13691 13691\n",
      "14359 14359\n",
      "15082 15082\n",
      "16628 16628\n",
      "17348 17348\n",
      "18151 18151\n",
      "18896 18896\n",
      "19668 19668\n",
      "20478 20478\n",
      "21309 21309\n",
      "22160 22160\n",
      "22918 22918\n",
      "23676 23676\n",
      "24372 24372\n",
      "25145 25145\n",
      "25943 25943\n",
      "26644 26644\n",
      "27441 27441\n",
      "28284 28284\n",
      "29844 29844\n",
      "30686 30686\n",
      "31516 31516\n"
     ]
    }
   ],
   "source": [
    "ll = 0\n",
    "mm = 0\n",
    "for i in range(38):\n",
    "    l = np.loadtxt('tica-data/tic_traj_%d'%i)\n",
    "    m = np.loadtxt('dihedral-data/phi_residue_2_traj_%d'%i)\n",
    "    ll += len(l)\n",
    "    mm += len(m)\n",
    "    print(ll,mm)\n",
    "#print(m)"
   ]
  },
  {
   "cell_type": "markdown",
   "metadata": {},
   "source": [
    "In the next few cells dihedral angles are loaded and correlation is computed"
   ]
  },
  {
   "cell_type": "code",
   "execution_count": 7,
   "metadata": {},
   "outputs": [],
   "source": [
    "#sin-cosine correlation of Phi angles\n",
    "\n",
    "\n",
    "f1 = open('phi_tIC_1_sin_corr.dat','w')\n",
    "f2 = open('phi_tIC_1_cos_corr.dat','w')\n",
    "f3 = open('phi_tIC_2_sin_corr.dat','w')\n",
    "f4 = open('phi_tIC_2_cos_corr.dat','w')\n",
    "print('#Residue #correlation with tIC 1',file=f1)\n",
    "print('#Residue #correlation with tIC 1',file=f2)\n",
    "print('#Residue #correlation with tIC 2',file=f3)\n",
    "print('#Residue #correlation with tIC 2',file=f4)\n",
    "for i in range(2,3439):\n",
    "    \n",
    "    angles = np.loadtxt('dihedral-data/phi_residue_%d_traj_0'%i)\n",
    "    \n",
    "    for j in range(1,38):\n",
    "        l = np.loadtxt('dihedral-data/phi_residue_%d_traj_%d'%(i,j))\n",
    "        angles = np.concatenate((angles,l))\n",
    "    \n",
    "    cc_1 = np.corrcoef(tIC_1,np.sin(angles))\n",
    "    cc_2 = np.corrcoef(tIC_1,np.cos(angles))\n",
    "    cc_3 = np.corrcoef(tIC_2,np.sin(angles))\n",
    "    cc_4 = np.corrcoef(tIC_2,np.cos(angles))\n",
    "    \n",
    "    \n",
    "    \n",
    "    print(i, cc_1[0,1],file=f1)\n",
    "    print(i, cc_2[0,1],file=f2)\n",
    "    print(i, cc_3[0,1],file=f3)\n",
    "    print(i, cc_4[0,1],file=f4)\n",
    "\n",
    "f1.close()\n",
    "f2.close()\n",
    "f3.close()\n",
    "f4.close()"
   ]
  },
  {
   "cell_type": "code",
   "execution_count": 9,
   "metadata": {},
   "outputs": [],
   "source": [
    "#sin-cosine correlation of psi angles\n",
    "\n",
    "\n",
    "f1 = open('psi_tIC_1_sin_corr.dat','w')\n",
    "f2 = open('psi_tIC_1_cos_corr.dat','w')\n",
    "f3 = open('psi_tIC_2_sin_corr.dat','w')\n",
    "f4 = open('psi_tIC_2_cos_corr.dat','w')\n",
    "print('#Residue #correlation with tIC 1',file=f1)\n",
    "print('#Residue #correlation with tIC 1',file=f2)\n",
    "print('#Residue #correlation with tIC 2',file=f3)\n",
    "print('#Residue #correlation with tIC 2',file=f4)\n",
    "for i in range(1,3438):\n",
    "    \n",
    "    angles = np.loadtxt('dihedral-data/psi_residue_%d_traj_0'%i)\n",
    "    \n",
    "    for j in range(1,38):\n",
    "        l = np.loadtxt('dihedral-data/psi_residue_%d_traj_%d'%(i,j))\n",
    "        angles = np.concatenate((angles,l))\n",
    "    \n",
    "    cc_1 = np.corrcoef(tIC_1,np.sin(angles))\n",
    "    cc_2 = np.corrcoef(tIC_1,np.cos(angles))\n",
    "    cc_3 = np.corrcoef(tIC_2,np.sin(angles))\n",
    "    cc_4 = np.corrcoef(tIC_2,np.cos(angles))\n",
    "    \n",
    "    \n",
    "    \n",
    "    print(i, cc_1[0,1],file=f1)\n",
    "    print(i, cc_2[0,1],file=f2)\n",
    "    print(i, cc_3[0,1],file=f3)\n",
    "    print(i, cc_4[0,1],file=f4)\n",
    "\n",
    "f1.close()\n",
    "f2.close()\n",
    "f3.close()\n",
    "f4.close()"
   ]
  },
  {
   "cell_type": "code",
   "execution_count": 8,
   "metadata": {},
   "outputs": [],
   "source": [
    "#sort sin-cosine the TICA correlations (Phi)\n",
    "\n",
    "l = np.loadtxt('phi_tIC_1_sin_corr.dat')\n",
    "\n",
    "sorted1 = l[np.argsort(l[:, 1])]\n",
    "\n",
    "f1 = open('phi_sorted_tIC_1_sin_corr.dat','w')\n",
    "print('#dihedral index   #correlation',file=f1)\n",
    "for i in range(len(sorted1)):\n",
    "    print(int(sorted1[i,0]),sorted1[i,1],file=f1)\n",
    "f1.close()\n",
    "\n",
    "l = np.loadtxt('phi_tIC_1_cos_corr.dat')\n",
    "\n",
    "sorted1 = l[np.argsort(l[:, 1])]\n",
    "\n",
    "f1 = open('phi_sorted_tIC_1_cos_corr.dat','w')\n",
    "print('#dihedral index   #correlation',file=f1)\n",
    "for i in range(len(sorted1)):\n",
    "    print(int(sorted1[i,0]),sorted1[i,1],file=f1)\n",
    "f1.close()\n",
    "\n",
    "l = np.loadtxt('phi_tIC_2_sin_corr.dat')\n",
    "\n",
    "sorted2 = l[np.argsort(l[:, 1])]\n",
    "\n",
    "f1 = open('phi_sorted_tIC_2_sin_corr.dat','w')\n",
    "print('#dihedral index   #correlation',file=f1)\n",
    "for i in range(len(sorted2)):\n",
    "    print(int(sorted2[i,0]),sorted2[i,1],file=f1)\n",
    "f1.close()\n",
    "\n",
    "l = np.loadtxt('phi_tIC_2_cos_corr.dat')\n",
    "\n",
    "sorted2 = l[np.argsort(l[:, 1])]\n",
    "\n",
    "f1 = open('phi_sorted_tIC_2_cos_corr.dat','w')\n",
    "print('#dihedral index   #correlation',file=f1)\n",
    "for i in range(len(sorted2)):\n",
    "    print(int(sorted2[i,0]),sorted2[i,1],file=f1)\n",
    "f1.close()"
   ]
  },
  {
   "cell_type": "code",
   "execution_count": 11,
   "metadata": {},
   "outputs": [],
   "source": [
    "#sort sin-cosine the TICA correlations (psi)\n",
    "\n",
    "l = np.loadtxt('psi_tIC_1_sin_corr.dat')\n",
    "\n",
    "sorted1 = l[np.argsort(l[:, 1])]\n",
    "\n",
    "f1 = open('psi_sorted_tIC_1_sin_corr.dat','w')\n",
    "print('#dihedral index   #correlation',file=f1)\n",
    "for i in range(len(sorted1)):\n",
    "    print(int(sorted1[i,0]),sorted1[i,1],file=f1)\n",
    "f1.close()\n",
    "\n",
    "l = np.loadtxt('psi_tIC_1_cos_corr.dat')\n",
    "\n",
    "sorted1 = l[np.argsort(l[:, 1])]\n",
    "\n",
    "f1 = open('psi_sorted_tIC_1_cos_corr.dat','w')\n",
    "print('#dihedral index   #correlation',file=f1)\n",
    "for i in range(len(sorted1)):\n",
    "    print(int(sorted1[i,0]),sorted1[i,1],file=f1)\n",
    "f1.close()\n",
    "\n",
    "l = np.loadtxt('psi_tIC_2_sin_corr.dat')\n",
    "\n",
    "sorted2 = l[np.argsort(l[:, 1])]\n",
    "\n",
    "f1 = open('psi_sorted_tIC_2_sin_corr.dat','w')\n",
    "print('#dihedral index   #correlation',file=f1)\n",
    "for i in range(len(sorted2)):\n",
    "    print(int(sorted2[i,0]),sorted2[i,1],file=f1)\n",
    "f1.close()\n",
    "\n",
    "l = np.loadtxt('psi_tIC_2_cos_corr.dat')\n",
    "\n",
    "sorted2 = l[np.argsort(l[:, 1])]\n",
    "\n",
    "f1 = open('psi_sorted_tIC_2_cos_corr.dat','w')\n",
    "print('#dihedral index   #correlation',file=f1)\n",
    "for i in range(len(sorted2)):\n",
    "    print(int(sorted2[i,0]),sorted2[i,1],file=f1)\n",
    "f1.close()"
   ]
  },
  {
   "cell_type": "code",
   "execution_count": 9,
   "metadata": {},
   "outputs": [
    {
     "data": {
      "image/png": "[encoded data removed]",
      "text/plain": [
       "<Figure size 432x288 with 1 Axes>"
      ]
     },
     "metadata": {
      "needs_background": "light"
     },
     "output_type": "display_data"
    }
   ],
   "source": [
    "#spectra sin-cos\n",
    "l1 = np.loadtxt('phi_tIC_1_sin_corr.dat')\n",
    "\n",
    "l1.sort(axis=0)\n",
    "\n",
    "l1 = l1.T\n",
    "\n",
    "l2 = np.loadtxt('phi_tIC_1_cos_corr.dat')\n",
    "\n",
    "l2.sort(axis=0)\n",
    "\n",
    "l2 = l2.T\n",
    "\n",
    "l3 = np.loadtxt('phi_tIC_2_sin_corr.dat')\n",
    "\n",
    "l3.sort(axis=0)\n",
    "\n",
    "l3 = l3.T\n",
    "\n",
    "l4 = np.loadtxt('phi_tIC_2_cos_corr.dat')\n",
    "\n",
    "l4.sort(axis=0)\n",
    "\n",
    "l4 = l4.T\n",
    "\n",
    "\n",
    "\n",
    "plt.plot(l1[0],l1[1],label='tIC 1 Sin')\n",
    "plt.plot(l2[0],l2[1],label='tIC 1 Cos')\n",
    "plt.plot(l3[0],l3[1],label='tIC 2 Sin')\n",
    "plt.plot(l4[0],l4[1],label='tIC 2 Cos')\n",
    "plt.xlabel('Dihedral angle features',fontsize=16)\n",
    "plt.ylabel('Correlation coefficient',fontsize=16)\n",
    "\n",
    "plt.xticks(fontsize=14)\n",
    "plt.yticks(fontsize=14)\n",
    "plt.axhline(y=0,color='k')\n",
    "plt.legend(fontsize=16)\n",
    "plt.tight_layout()\n",
    "\n",
    "#plt.show()\n",
    "plt.savefig('phi_spectra.pdf')"
   ]
  },
  {
   "cell_type": "code",
   "execution_count": 14,
   "metadata": {},
   "outputs": [
    {
     "data": {
      "image/png": "[encoded data removed]",
      "text/plain": [
       "<Figure size 432x288 with 1 Axes>"
      ]
     },
     "metadata": {
      "needs_background": "light"
     },
     "output_type": "display_data"
    }
   ],
   "source": [
    "#spectra sin-cos\n",
    "l1 = np.loadtxt('psi_tIC_1_sin_corr.dat')\n",
    "\n",
    "l1.sort(axis=0)\n",
    "\n",
    "l1 = l1.T\n",
    "\n",
    "l2 = np.loadtxt('psi_tIC_1_cos_corr.dat')\n",
    "\n",
    "l2.sort(axis=0)\n",
    "\n",
    "l2 = l2.T\n",
    "\n",
    "l3 = np.loadtxt('psi_tIC_2_sin_corr.dat')\n",
    "\n",
    "l3.sort(axis=0)\n",
    "\n",
    "l3 = l3.T\n",
    "\n",
    "l4 = np.loadtxt('psi_tIC_2_cos_corr.dat')\n",
    "\n",
    "l4.sort(axis=0)\n",
    "\n",
    "l4 = l4.T\n",
    "\n",
    "\n",
    "\n",
    "plt.plot(l1[0],l1[1],label='tIC 1 Sin')\n",
    "plt.plot(l2[0],l2[1],label='tIC 1 Cos')\n",
    "plt.plot(l3[0],l3[1],label='tIC 2 Sin')\n",
    "plt.plot(l4[0],l4[1],label='tIC 2 Cos')\n",
    "plt.xlabel('Dihedral angle features',fontsize=16)\n",
    "plt.ylabel('Correlation coefficient',fontsize=16)\n",
    "\n",
    "plt.xticks(fontsize=14)\n",
    "plt.yticks(fontsize=14)\n",
    "plt.axhline(y=0,color='k')\n",
    "plt.legend(fontsize=16)\n",
    "plt.tight_layout()\n",
    "\n",
    "#plt.show()\n",
    "plt.savefig('psi_spectra.pdf')"
   ]
  },
  {
   "cell_type": "code",
   "execution_count": null,
   "metadata": {},
   "outputs": [],
   "source": []
  }
 ],
 "metadata": {
  "kernelspec": {
   "display_name": "Python 3",
   "language": "python",
   "name": "python3"
  },
  "language_info": {
   "codemirror_mode": {
    "name": "ipython",
    "version": 3
   },
   "file_extension": ".py",
   "mimetype": "text/x-python",
   "name": "python",
   "nbconvert_exporter": "python",
   "pygments_lexer": "ipython3",
   "version": "3.6.8"
  }
 },
 "nbformat": 4,
 "nbformat_minor": 2
}
